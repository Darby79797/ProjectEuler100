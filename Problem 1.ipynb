{
 "cells": [
  {
   "cell_type": "markdown",
   "id": "010c3121",
   "metadata": {},
   "source": [
    "A solution to Problem 1 of Project Euler (https://projecteuler.net/problem=1)."
   ]
  },
  {
   "cell_type": "markdown",
   "id": "eaed3095",
   "metadata": {},
   "source": [
    "Brief description: Find the sum of all multiples of 3 or 5 up to 999 (inclusive)."
   ]
  },
  {
   "cell_type": "markdown",
   "id": "24adc183",
   "metadata": {},
   "source": [
    "First, a stupid solution. This is problem 1, so it actually runs quickly. This will not be true later."
   ]
  },
  {
   "cell_type": "code",
   "execution_count": 9,
   "id": "10f99cb8",
   "metadata": {},
   "outputs": [
    {
     "name": "stdout",
     "output_type": "stream",
     "text": [
      "233168\n"
     ]
    }
   ],
   "source": [
    "sum = 0\n",
    "for i in range(1000):\n",
    "    if i%3==0 or i%5==0:\n",
    "        sum=sum+i\n",
    "print(sum) "
   ]
  },
  {
   "cell_type": "markdown",
   "id": "7d798955",
   "metadata": {},
   "source": [
    "Secondly, a sensible solution using the inclusion-exclusion principle.\n",
    "I can count the sum of multiples of 3 up to 999 as 3(1+...+333) = 3(333)(334)/2.\n",
    "I can count the multiples of 5 up to 999 as 5(1+...+199) = 5(199)(200)/2.\n",
    "Doing so double-counts multiples of 15; their sum is 15(1+...+66) = 15(66)(67)/2.\n",
    "We perform the calculation."
   ]
  },
  {
   "cell_type": "code",
   "execution_count": 10,
   "id": "0d8fd8aa",
   "metadata": {},
   "outputs": [
    {
     "name": "stdout",
     "output_type": "stream",
     "text": [
      "233168.0\n"
     ]
    }
   ],
   "source": [
    "sum = 3*333*334/2 + 5*199*200/2 - 15*67*66/2\n",
    "print(sum)"
   ]
  },
  {
   "cell_type": "markdown",
   "id": "95fbb3df",
   "metadata": {},
   "source": [
    "We get the same answer from both approaches, and it is correct."
   ]
  }
 ],
 "metadata": {
  "kernelspec": {
   "display_name": "Python 3 (ipykernel)",
   "language": "python",
   "name": "python3"
  },
  "language_info": {
   "codemirror_mode": {
    "name": "ipython",
    "version": 3
   },
   "file_extension": ".py",
   "mimetype": "text/x-python",
   "name": "python",
   "nbconvert_exporter": "python",
   "pygments_lexer": "ipython3",
   "version": "3.9.7"
  }
 },
 "nbformat": 4,
 "nbformat_minor": 5
}
