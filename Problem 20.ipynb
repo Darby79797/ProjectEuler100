{
 "cells": [
  {
   "cell_type": "markdown",
   "id": "8bbb2acc",
   "metadata": {},
   "source": [
    "A solution to Problem 20 of Project Euler."
   ]
  },
  {
   "cell_type": "code",
   "execution_count": 4,
   "id": "033db004",
   "metadata": {},
   "outputs": [
    {
     "name": "stdout",
     "output_type": "stream",
     "text": [
      "93326215443944152681699238856266700490715968264381621468592963895217599993229915608941463976156518286253697920827223758251185210916864000000000000000000000000\n",
      "648\n"
     ]
    }
   ],
   "source": [
    "prod = 1\n",
    "for x in range(100):\n",
    "    prod = prod*(x+1)\n",
    "s = str(prod)\n",
    "sum = 0\n",
    "for digit in s:\n",
    "    sum = sum + int(digit)\n",
    "print(sum)"
   ]
  }
 ],
 "metadata": {
  "kernelspec": {
   "display_name": "Python 3 (ipykernel)",
   "language": "python",
   "name": "python3"
  },
  "language_info": {
   "codemirror_mode": {
    "name": "ipython",
    "version": 3
   },
   "file_extension": ".py",
   "mimetype": "text/x-python",
   "name": "python",
   "nbconvert_exporter": "python",
   "pygments_lexer": "ipython3",
   "version": "3.9.7"
  }
 },
 "nbformat": 4,
 "nbformat_minor": 5
}
