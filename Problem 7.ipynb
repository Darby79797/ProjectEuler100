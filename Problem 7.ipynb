{
 "cells": [
  {
   "cell_type": "code",
   "execution_count": null,
   "id": "551bb15e",
   "metadata": {},
   "outputs": [],
   "source": [
    "import math"
   ]
  },
  {
   "cell_type": "markdown",
   "id": "e4fa872f",
   "metadata": {},
   "source": [
    "A solution to problem 7 of Project Euler.\n",
    "\n",
    "Find the 10001st prime. I build any program and see if it works before thinking about efficiency."
   ]
  },
  {
   "cell_type": "code",
   "execution_count": 27,
   "id": "dc56afcd",
   "metadata": {},
   "outputs": [],
   "source": [
    "def generatePrimeList(k):\n",
    "    primes = []\n",
    "    t=2\n",
    "    while len(primes)<k:\n",
    "        if isPrime(t,primes):\n",
    "            primes.append(t)\n",
    "        t=t+1\n",
    "    return primes"
   ]
  },
  {
   "cell_type": "code",
   "execution_count": 22,
   "id": "48e2ebd2",
   "metadata": {},
   "outputs": [],
   "source": [
    "def isPrime(t,primes):\n",
    "    isPrime = True\n",
    "    for prime in primes:\n",
    "        if t/prime == int(t/prime):\n",
    "            isPrime = False\n",
    "    return isPrime"
   ]
  },
  {
   "cell_type": "code",
   "execution_count": 28,
   "id": "2d40a9dd",
   "metadata": {},
   "outputs": [
    {
     "name": "stdout",
     "output_type": "stream",
     "text": [
      "104743\n"
     ]
    }
   ],
   "source": [
    "primes = generatePrimeList(10001)\n",
    "bigPrime = primes[-1]\n",
    "print(bigPrime)"
   ]
  },
  {
   "cell_type": "markdown",
   "id": "fe521f7c",
   "metadata": {},
   "source": [
    "The answer is 104,743, and I did not need to improve efficiency to get the answer in <1min of runtime. Clearly I can improve my program trivially by hardcoding the prime 2 in, and having the candidate <$>t<\\$> increment by 2 each step. I can do even better by implementing any \"proper\" primality test - note I don't actually need worry too much about the slowness of checking any pseudoprimes, since most numbers are not pseudoprimes. "
   ]
  },
  {
   "cell_type": "code",
   "execution_count": null,
   "id": "923ff239",
   "metadata": {},
   "outputs": [],
   "source": []
  }
 ],
 "metadata": {
  "kernelspec": {
   "display_name": "Python 3 (ipykernel)",
   "language": "python",
   "name": "python3"
  },
  "language_info": {
   "codemirror_mode": {
    "name": "ipython",
    "version": 3
   },
   "file_extension": ".py",
   "mimetype": "text/x-python",
   "name": "python",
   "nbconvert_exporter": "python",
   "pygments_lexer": "ipython3",
   "version": "3.9.7"
  }
 },
 "nbformat": 4,
 "nbformat_minor": 5
}
