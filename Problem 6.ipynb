{
 "cells": [
  {
   "cell_type": "markdown",
   "id": "052ca172",
   "metadata": {},
   "source": [
    "A solution to problem 6 of Project Euler.\n",
    "\n",
    "Find the difference between the sum of the squares of 1 to 100, and the square of the sum.\n",
    "\n",
    "We code in the naive way; it should work."
   ]
  },
  {
   "cell_type": "code",
   "execution_count": 4,
   "id": "3a212695",
   "metadata": {},
   "outputs": [
    {
     "name": "stdout",
     "output_type": "stream",
     "text": [
      "25502500\n",
      "338350\n",
      "25164150\n"
     ]
    }
   ],
   "source": [
    "sum1 = 0\n",
    "sum2 = 0\n",
    "for x in range(1,101):\n",
    "    sum1 = sum1 + x*x\n",
    "    sum2 = sum2+x\n",
    "print(sum2*sum2)\n",
    "print(sum1)\n",
    "print(sum2*sum2-sum1)"
   ]
  },
  {
   "cell_type": "code",
   "execution_count": null,
   "id": "3c06696c",
   "metadata": {},
   "outputs": [],
   "source": []
  }
 ],
 "metadata": {
  "kernelspec": {
   "display_name": "Python 3 (ipykernel)",
   "language": "python",
   "name": "python3"
  },
  "language_info": {
   "codemirror_mode": {
    "name": "ipython",
    "version": 3
   },
   "file_extension": ".py",
   "mimetype": "text/x-python",
   "name": "python",
   "nbconvert_exporter": "python",
   "pygments_lexer": "ipython3",
   "version": "3.9.7"
  }
 },
 "nbformat": 4,
 "nbformat_minor": 5
}
