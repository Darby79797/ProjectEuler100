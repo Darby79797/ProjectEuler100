{
 "cells": [
  {
   "cell_type": "markdown",
   "id": "7dd19f00",
   "metadata": {},
   "source": [
    "A solution to Problem 5 of Project Euler.\n",
    "Find the smallest number that is a multiple of all of 1 to 20.\n",
    "\n",
    "We do this without much code.\n",
    "\n",
    "$$\\text{LCM}(1,2,3,2^2,5,2\\times3,7,2^3,3^2,2\\times5,11,2^2\\times3,13,2\\times7,3\\times5,2^4,17,2\\times3^2,19,2^2\\times5) = 2^4\\times 3^2 \\times 5 \\times 7 \\times 11 \\times 13 \\times 17 \\times 19$$\n",
    "\n",
    "So we need factors of $16,9,5,7,11,13,17,19$, and we get the others for free."
   ]
  },
  {
   "cell_type": "code",
   "execution_count": 2,
   "id": "a62d2d49",
   "metadata": {},
   "outputs": [
    {
     "name": "stdout",
     "output_type": "stream",
     "text": [
      "232792560\n"
     ]
    }
   ],
   "source": [
    "print(16*9*5*7*11*13*17*19)"
   ]
  },
  {
   "cell_type": "code",
   "execution_count": null,
   "id": "e4495f91",
   "metadata": {},
   "outputs": [],
   "source": []
  }
 ],
 "metadata": {
  "kernelspec": {
   "display_name": "Python 3 (ipykernel)",
   "language": "python",
   "name": "python3"
  },
  "language_info": {
   "codemirror_mode": {
    "name": "ipython",
    "version": 3
   },
   "file_extension": ".py",
   "mimetype": "text/x-python",
   "name": "python",
   "nbconvert_exporter": "python",
   "pygments_lexer": "ipython3",
   "version": "3.9.7"
  }
 },
 "nbformat": 4,
 "nbformat_minor": 5
}
