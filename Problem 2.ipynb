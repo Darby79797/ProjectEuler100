{
 "cells": [
  {
   "cell_type": "markdown",
   "id": "04201882",
   "metadata": {},
   "source": [
    "A solution to Problem 2 of Project Euler (https://projecteuler.net/problem=2)."
   ]
  },
  {
   "cell_type": "markdown",
   "id": "45b557df",
   "metadata": {},
   "source": [
    "Find the sum of all even Fibonacci numbers lesss than 4 million."
   ]
  },
  {
   "cell_type": "markdown",
   "id": "6bdeecb7",
   "metadata": {},
   "source": [
    "Stupid solution should work"
   ]
  },
  {
   "cell_type": "code",
   "execution_count": 8,
   "id": "f104c50c",
   "metadata": {},
   "outputs": [
    {
     "name": "stdout",
     "output_type": "stream",
     "text": [
      "[0, 1, 1, 2, 3, 5, 8, 13, 21, 34, 55, 89, 144, 233, 377, 610, 987, 1597, 2584, 4181, 6765, 10946, 17711, 28657, 46368, 75025, 121393, 196418, 317811, 514229, 832040, 1346269, 2178309, 3524578]\n",
      "\n",
      "4613732\n"
     ]
    }
   ],
   "source": [
    "fib = [0,1]\n",
    "while 1:\n",
    "    fib.append(fib[-1]+fib[-2])\n",
    "    if fib[-1]>4000000:\n",
    "        break\n",
    "        \n",
    "print(fib[0:-1])\n",
    "print()\n",
    "\n",
    "sum=0\n",
    "for x in fib:\n",
    "    if x%2==0:\n",
    "        sum=sum+x\n",
    "        \n",
    "print(sum)        "
   ]
  }
 ],
 "metadata": {
  "kernelspec": {
   "display_name": "Python 3 (ipykernel)",
   "language": "python",
   "name": "python3"
  },
  "language_info": {
   "codemirror_mode": {
    "name": "ipython",
    "version": 3
   },
   "file_extension": ".py",
   "mimetype": "text/x-python",
   "name": "python",
   "nbconvert_exporter": "python",
   "pygments_lexer": "ipython3",
   "version": "3.9.7"
  }
 },
 "nbformat": 4,
 "nbformat_minor": 5
}
