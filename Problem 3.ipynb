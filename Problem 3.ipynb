{
 "cells": [
  {
   "cell_type": "markdown",
   "id": "f8f9dba3",
   "metadata": {},
   "source": [
    "Solution to Project Euler, Problem 3"
   ]
  },
  {
   "cell_type": "markdown",
   "id": "485dbaf0",
   "metadata": {},
   "source": [
    "Find the largest prime factor of 600,851,475,143.\n",
    "\n",
    "Step 1: Observe that the square root of 6(10)^11 is about 775000.\n",
    "Step 2: Iterate and divide by all potential factors up to this bound."
   ]
  },
  {
   "cell_type": "code",
   "execution_count": 9,
   "id": "4227bc59",
   "metadata": {},
   "outputs": [
    {
     "name": "stdout",
     "output_type": "stream",
     "text": [
      "71\n",
      "839\n",
      "1471\n",
      "6857\n",
      "Done!\n"
     ]
    }
   ],
   "source": [
    "import math\n",
    "\n",
    "N = 600851475143\n",
    "\n",
    "\n",
    "for p in range(2,int(math.sqrt(N))):\n",
    "    if N%(p) == 0:\n",
    "        if isPrime(p):\n",
    "            print(p)\n",
    "       \n",
    "        \n",
    "print('Done!')      "
   ]
  },
  {
   "cell_type": "code",
   "execution_count": 8,
   "id": "0f652292",
   "metadata": {},
   "outputs": [],
   "source": [
    "def isPrime(n):\n",
    "    for i in range(2,int(n**0.5)+1):\n",
    "        if n%i==0:\n",
    "            return False\n",
    "        \n",
    "    return True"
   ]
  },
  {
   "cell_type": "code",
   "execution_count": null,
   "id": "eb2f9f41",
   "metadata": {},
   "outputs": [],
   "source": []
  }
 ],
 "metadata": {
  "kernelspec": {
   "display_name": "Python 3 (ipykernel)",
   "language": "python",
   "name": "python3"
  },
  "language_info": {
   "codemirror_mode": {
    "name": "ipython",
    "version": 3
   },
   "file_extension": ".py",
   "mimetype": "text/x-python",
   "name": "python",
   "nbconvert_exporter": "python",
   "pygments_lexer": "ipython3",
   "version": "3.9.7"
  }
 },
 "nbformat": 4,
 "nbformat_minor": 5
}
